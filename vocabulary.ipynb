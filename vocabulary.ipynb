{
 "cells": [
  {
   "cell_type": "markdown",
   "metadata": {},
   "source": [
    "# 六级单词表"
   ]
  },
  {
   "cell_type": "code",
   "execution_count": null,
   "metadata": {
    "vscode": {
     "languageId": "plaintext"
    }
   },
   "outputs": [],
   "source": [
    "\n",
    "\t1. receipt\n",
    "\t2. repression\n",
    "\t3. censorship\n",
    "\t4. aggravate\n",
    "\t5. endeavour\n",
    "\t6. generalize\n",
    "\t7. obsess\n",
    "\t8. insurance\n",
    "\t9. periodical\n",
    "\t10. suppression\n",
    "\t11. unilateral\n",
    "\t12. wharf\n",
    "\t13. subtle\n",
    "\t14. cumulative\n",
    "\t15. counteract\n",
    "\t16. thrill\n",
    "\t17. retrospect\n",
    "\t18. thesis\n",
    "\t19. recede\n",
    "\t20. consequence\n",
    "\t21. configuration\n",
    "\t22. dispatch\n",
    "\t23. ammunition\n",
    "\t24. deviate\n",
    "\t25. endow\n",
    "\t26. procedure\n",
    "\t27. witch\n",
    "\t28. leaflet\n",
    "\t29. solidarity\n",
    "\t30. liner\n",
    "\t31. foretell\n",
    "\t32. mar\n",
    "\t33. toll\n",
    "\t34. lace\n",
    "\t35. topple\n",
    "\t36. vertical\n",
    "\t37. eradication\n",
    "\t38. abnormal\n",
    "\t39. restore\n",
    "\t40. fortification\n",
    "\t41. bout\n",
    "\t42. cardinal\n",
    "\t43. fragility\n"
   ]
  },
  {
   "cell_type": "code",
   "execution_count": null,
   "metadata": {
    "vscode": {
     "languageId": "plaintext"
    }
   },
   "outputs": [],
   "source": [
    "\t1. exceptionally\n",
    "\t2. interfere\n",
    "\t3. interact\n",
    "\t4. establish\n",
    "\t5. fascinate\n",
    "\t6. hover\n",
    "\t7. sophisticated\n",
    "\t8. fossil\n",
    "\t9. mechanical\n",
    "\t10. flap\n",
    "\t11. supplement\n",
    "\t12. triumph\n",
    "\t13. dinosaur\n",
    "\t14. twist\n",
    "\t15. fringe\n",
    "\t16. scramble\n",
    "\t17. offset\n",
    "\t18. shaft\n",
    "\t19. insulation\n",
    "\t20. startle\n",
    "\t21. menace\n",
    "\t22. archive\n",
    "\t23. scrap\n",
    "\t24. perplexity\n",
    "\t25. cynicism\n",
    "\t26. inventory\n",
    "\t27. devour\n",
    "\t28. wreck\n"
   ]
  },
  {
   "cell_type": "markdown",
   "metadata": {},
   "source": [
    "2024.10.15"
   ]
  },
  {
   "cell_type": "code",
   "execution_count": null,
   "metadata": {
    "vscode": {
     "languageId": "plaintext"
    }
   },
   "outputs": [],
   "source": [
    "1.grip\n",
    "2.rational\n",
    "3.perpetual\n",
    "4.breed\n",
    "5.concurrent\n",
    "6.triumphant\n",
    "7.concede\n",
    "8.indulge\n",
    "9.modify\n",
    "10.obscure\n",
    "11.foil\n",
    "12.friction\n",
    "\n",
    "\n",
    "\n"
   ]
  },
  {
   "cell_type": "markdown",
   "metadata": {},
   "source": [
    "2024.10.17"
   ]
  },
  {
   "cell_type": "code",
   "execution_count": null,
   "metadata": {
    "vscode": {
     "languageId": "plaintext"
    }
   },
   "outputs": [],
   "source": [
    "legacy\n",
    "desirable\n",
    "gear\n",
    "recreation\n",
    "aesthetic\n",
    "longevity\n",
    "controversy\n",
    "resistant\n",
    "prominent\n",
    "evoke\n",
    "impetus\n",
    "endurance\n",
    "rip\n",
    "costume\n",
    "appropriation\n",
    "tribe\n",
    "thereafter\n",
    "landmark\n",
    "rhetorical\n",
    "retort\n",
    "courtesy\n",
    "barometer\n",
    "segregate\n",
    "reputable\n",
    "surpass\n",
    "slaughter\n",
    "panorama\n",
    "epidemic\n",
    "deplore\n",
    " \n"
   ]
  },
  {
   "cell_type": "markdown",
   "metadata": {},
   "source": [
    "## 2024.10.20"
   ]
  },
  {
   "cell_type": "code",
   "execution_count": null,
   "metadata": {
    "vscode": {
     "languageId": "plaintext"
    }
   },
   "outputs": [],
   "source": [
    "1.substance\n",
    "2.disgust\n",
    "3.plague\n",
    "4.plumbing\n",
    "5.distinguish\n",
    "6.odor\n",
    "7.detergent\n",
    "8.rot\n",
    "9.linen\n",
    "10.stigma\n",
    "11.immigrant\n",
    "12.cosmetic\n",
    "13.asylum\n",
    "14.prevalent\n",
    "15.perfume\n",
    "16.competitive\n",
    "17.bacteria\n",
    "18.vary\n",
    "19.marsh\n",
    "20.ritual\n",
    "21.hygiene\n",
    "22.trillion\n",
    "23.fragrance\n",
    "24.cane\n",
    "25.trolley\n",
    "26.drain\n",
    "27.gleam\n",
    "28.contagious\n",
    "29.decay\n",
    "30.sanitation\n",
    "\n"
   ]
  },
  {
   "cell_type": "markdown",
   "metadata": {},
   "source": [
    "## 2024.10.22"
   ]
  },
  {
   "cell_type": "code",
   "execution_count": null,
   "metadata": {
    "vscode": {
     "languageId": "plaintext"
    }
   },
   "outputs": [],
   "source": [
    "plague\n",
    "electron\n",
    "streamline\n",
    "congregation\n",
    "blink\n",
    "orbit\n",
    "illuminate\n",
    "emancipation\n",
    "chase\n",
    "faction\n",
    "glitter\n",
    "luminous\n",
    "beetle\n",
    "tempo\n",
    "precise\n",
    "sprawl\n",
    "spontaneous\n",
    "distract\n",
    "hemisphere\n",
    "deduct\n",
    "\n",
    "\n"
   ]
  },
  {
   "cell_type": "markdown",
   "metadata": {},
   "source": [
    "## 2024.10.24"
   ]
  },
  {
   "cell_type": "code",
   "execution_count": null,
   "metadata": {
    "vscode": {
     "languageId": "plaintext"
    }
   },
   "outputs": [],
   "source": [
    "1.tactic\n",
    "2.resort\n",
    "3.deceive\n",
    "4.disposal\n",
    "5.feasible\n",
    "6.discipline\n",
    "7.disorder\n",
    "8.conceive\n",
    "9.harass\n",
    "10.malicious\n",
    "11.gauge\n",
    "12.objection\n",
    "13.retaliate\n",
    "14.peddle\n",
    "15.paradise\n",
    "16.shield\n",
    "17.ventilate\n",
    "18.deterrent\n",
    "19.complement\n",
    "20.empirically\n",
    "21.peculiar\n",
    "22.submerge\n",
    "23.deportation\n",
    "24.diesel\n",
    "25.amiable\n",
    "26.salute"
   ]
  },
  {
   "cell_type": "markdown",
   "metadata": {},
   "source": [
    "2021.10.30"
   ]
  },
  {
   "cell_type": "code",
   "execution_count": null,
   "metadata": {
    "vscode": {
     "languageId": "plaintext"
    }
   },
   "outputs": [],
   "source": [
    "1.kidney\n",
    "2.orient\n",
    "3.infant\n",
    "4.prescription\n",
    "5.cord\n",
    "6.comparison\n",
    "7.compartment\n",
    "8.flip\n",
    "9.analogy\n",
    "10.merge\n",
    "11.batter\n",
    "12.lever\n",
    "13.worthy\n",
    "14.synthetic\n",
    "15.adversary\n",
    "16.spinal\n",
    "17.urine\n",
    "18.premature\n",
    "19.shove\n",
    "20.redundancy\n",
    "21.adorable\n",
    "22.parrot\n",
    "23.rhetoric\n",
    "24.scandal\n",
    "25.integrity\n",
    "26.discern\n",
    "27.remainder\n",
    "28.handicap\n",
    "29.erect\n",
    "30.infringement\n",
    "31.detachment\n",
    "32.absurdity\n",
    "\n",
    "\n"
   ]
  },
  {
   "cell_type": "markdown",
   "metadata": {},
   "source": [
    "2024.11.04"
   ]
  },
  {
   "cell_type": "code",
   "execution_count": null,
   "metadata": {
    "vscode": {
     "languageId": "plaintext"
    }
   },
   "outputs": [],
   "source": [
    "commercial\n",
    "\n",
    "stereo\n",
    "\n",
    "ardent\n",
    "\n",
    "verge\n",
    "\n",
    "versus\n",
    "\n",
    "humiliation\n",
    "\n",
    "spite\n",
    "\n",
    "slick\n",
    "\n",
    "priest\n",
    "\n",
    "counterfeit\n",
    "\n",
    "abort\n",
    "\n",
    "compensate\n",
    "\n",
    "exemption\n",
    "\n",
    "intimidate\n",
    "\n"
   ]
  }
 ],
 "metadata": {
  "language_info": {
   "name": "python"
  }
 },
 "nbformat": 4,
 "nbformat_minor": 2
}
